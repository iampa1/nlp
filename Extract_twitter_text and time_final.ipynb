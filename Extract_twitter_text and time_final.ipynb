{
 "cells": [
  {
   "cell_type": "code",
   "execution_count": 6,
   "metadata": {},
   "outputs": [
    {
     "name": "stdout",
     "output_type": "stream",
     "text": [
      "Enter the keyword you want to search for srk\n",
      "Enter the number of tweets you want3\n",
      "@Srk_bangalore @BauuaSingh @iamsrk @Zero21Dec @aanandlrai @iamsrkclub @cypplOfficial @RedChilliesEnt @AnushkaSharma… https://t.co/233HqQSsj2\n",
      "RT @sejal4591: #VikasIsSoPowerfulThat he made srk change his films name from 100 to #Zero\n",
      "CountDown Begins Just ❤️ #5DaysToZero #Srk #SalmanKhan #Zero21Dec #Ishqbaaaz  on the way @iamsrk @BeingSalmanKhan B… https://t.co/Mrc0PBOmGM\n"
     ]
    }
   ],
   "source": [
    "import tweepy\n",
    "from tkinter import *\n",
    "from time import sleep\n",
    "import numpy as np\n",
    "\n",
    "#Authentication\n",
    "consumer_key = 'ohNeoATMiza9SEIFhyF5qDnzf'\n",
    "consumer_secret = 'eVqHVxY6jclkb8oFvZ3mSnoLQhdmxiDphSveRhDDSpAZ5EP8J8'\n",
    "access_token = '580403542-7HLhWnqpcBrT1nMcOQo92dtkjJY4Jsss5XvHtxOx'\n",
    "access_token_secret = 'm7LVRMCdyrBeseJ7pVPrJMKUSJcldlLi414RNb4MCgv2e'\n",
    "\n",
    "auth = tweepy.OAuthHandler(consumer_key, consumer_secret)\n",
    "auth.set_access_token(access_token, access_token_secret)\n",
    "api = tweepy.API(auth)\n",
    "text=[]\n",
    "time=[]\n",
    "new_dict=dict()\n",
    "\n",
    "\n",
    "keyword = input(\"Enter the keyword you want to search for \")\n",
    "\n",
    "numberOfTweets = input(\"Enter the number of tweets you want\")\n",
    "numberOfTweets = int(numberOfTweets)\n",
    "    \n",
    "    \n",
    "\n",
    "for tweet in tweepy.Cursor(api.search, keyword, lang=\"en\").items(numberOfTweets):\n",
    "    try:\n",
    "        print(tweet.text)\n",
    "        global text\n",
    "        text.append(tweet.text)\n",
    "        global time\n",
    "        time.append(tweet.created_at)\n",
    "    except tweepy.TweepError as e:\n",
    "        print(e.reason)\n",
    "\n",
    "    except StopIteration:\n",
    "        break\n",
    "\n"
   ]
  },
  {
   "cell_type": "code",
   "execution_count": 13,
   "metadata": {},
   "outputs": [
    {
     "data": {
      "text/plain": [
       "'CountDown Begins Just ❤️ #5DaysToZero #Srk #SalmanKhan #Zero21Dec #Ishqbaaaz  on the way @iamsrk @BeingSalmanKhan B… https://t.co/Mrc0PBOmGM'"
      ]
     },
     "execution_count": 13,
     "metadata": {},
     "output_type": "execute_result"
    }
   ],
   "source": [
    "tweet.text"
   ]
  },
  {
   "cell_type": "code",
   "execution_count": 14,
   "metadata": {},
   "outputs": [
    {
     "data": {
      "text/plain": [
       "[datetime.datetime(2018, 12, 16, 13, 26, 28),\n",
       " datetime.datetime(2018, 12, 16, 13, 26, 25),\n",
       " datetime.datetime(2018, 12, 16, 13, 26, 25)]"
      ]
     },
     "execution_count": 14,
     "metadata": {},
     "output_type": "execute_result"
    }
   ],
   "source": [
    "time"
   ]
  },
  {
   "cell_type": "code",
   "execution_count": null,
   "metadata": {},
   "outputs": [],
   "source": []
  }
 ],
 "metadata": {
  "kernelspec": {
   "display_name": "Python 3",
   "language": "python",
   "name": "python3"
  },
  "language_info": {
   "codemirror_mode": {
    "name": "ipython",
    "version": 3
   },
   "file_extension": ".py",
   "mimetype": "text/x-python",
   "name": "python",
   "nbconvert_exporter": "python",
   "pygments_lexer": "ipython3",
   "version": "3.6.5"
  }
 },
 "nbformat": 4,
 "nbformat_minor": 2
}
